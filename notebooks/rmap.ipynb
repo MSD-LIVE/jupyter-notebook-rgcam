{
 "cells": [
  {
   "cell_type": "markdown",
   "id": "ea07cc66-9921-4218-8717-4733c8888b45",
   "metadata": {},
   "source": [
    "# `rmap`:  An R Package to plot and compare tabular data on customizable maps across scenarios and time\n",
    "## Maridee Weber"
   ]
  },
  {
   "cell_type": "markdown",
   "id": "86a8847e-a067-4a23-ad1a-faf55518a3ff",
   "metadata": {},
   "source": [
    "# Overview\n",
    "The `rmap` package provides functions to easily create customizable maps and compare results across GCAM scenarios, years, and data classes. The package allows creation of difference maps as well as customizable legends, color palettes, and styles. This notebook demonstrates the primary `rmap` features; more information can be found in the [user guide on GitHub](https://jgcri.github.io/rmap/articles/vignette_map.html).\n"
   ]
  },
  {
   "cell_type": "markdown",
   "id": "ac6a2ecf-1a0d-49ca-b175-8393601d6e84",
   "metadata": {},
   "source": [
    "# Input structure\n",
    "`rmap` requires GCAM output to be in a specific format. Your data should be an R dataframe containing at least the following columns:\n",
    "\n",
    "- `subRegion`: GCAM region(s)\n",
    "- `value`: data values\n",
    "\n",
    "`rmap` can also utilize the following optional columns:\n",
    "\n",
    "- `param`: if your data includes multiple queries (e.g., population and GDP)\n",
    "- `scenario`: if your data includes multiple scenarios\n",
    "- `class`: if your data contains multiple categories, such as sectors, fuels, land types, etc.\n",
    "- `year`: if your data contains multiple years\n",
    "- `units`: if your data contains multiple units\n",
    "\n",
    "For this tutorial, you will make maps related to population and land use, and will first use `rgcam` to extract this data.\n"
   ]
  },
  {
   "cell_type": "code",
   "execution_count": null,
   "id": "7b335320-c5d4-4230-bbfb-6041040ae020",
   "metadata": {
    "scrolled": true
   },
   "outputs": [],
   "source": [
    "library(rgcam)\n",
    "\n",
    "# connect to GCAM database\n",
    "host <- gsub(':.*$', '', gsub('http://', '', Sys.getenv('JUPYTERHUB_API_URL')))\n",
    "conn <- remoteDBConn('gcamv71_training_basexdb', 'training', 'training', host)\n",
    "# create project file\n",
    "prj <- addScenario(conn, \"rgcam_training\", queryFile = \"../data/queries.xml\", scenario = \"GCAM\", clobber = TRUE)\n",
    "prj <- addScenario(conn, \"rgcam_training\", queryFile = \"../data/queries.xml\", scenario = \"GCAM_SSP3\", clobber = TRUE)\n",
    "# retrieve queries\n",
    "population <- getQuery(prj, \"population by region\")\n",
    "land_use <- getQuery(prj, \"detailed land allocation\")\n"
   ]
  },
  {
   "cell_type": "markdown",
   "id": "eb923e51-1117-468f-af26-06659432c04f",
   "metadata": {},
   "source": [
    "You can check your dataframes to see if they have the columns required for `rmap`.\n"
   ]
  },
  {
   "cell_type": "code",
   "execution_count": null,
   "id": "ac98da65-1641-4e58-b9b3-0019b23d4a88",
   "metadata": {
    "scrolled": true
   },
   "outputs": [],
   "source": [
    "head(land_use)\n",
    "head(population)"
   ]
  },
  {
   "cell_type": "markdown",
   "id": "1eb1d72a-0c4c-428c-aca4-e8bdf448d65b",
   "metadata": {},
   "source": [
    "These two dataframes each have a column containing GCAM regions called **region**, and a column containing values called **value**. The **region** column can be renamed to **subRegion** in each dataframe in order to take advantage of `rmap`'s prebuilt maps.\n"
   ]
  },
  {
   "cell_type": "code",
   "execution_count": null,
   "id": "bcc98141-41c7-44ca-a6b8-78de0021819e",
   "metadata": {},
   "outputs": [],
   "source": [
    "library(dplyr)\n",
    "library(tidyr)\n",
    "\n",
    "population_rmap <- population %>%\n",
    "    rename(subRegion = region)\n",
    "\n",
    "land_use_rmap <- land_use %>%\n",
    "    rename(subRegion = region)"
   ]
  },
  {
   "cell_type": "code",
   "execution_count": null,
   "id": "965ad270-3e24-4a9c-b633-dfcc56487847",
   "metadata": {
    "scrolled": true
   },
   "outputs": [],
   "source": [
    "colnames(population_rmap)\n",
    "colnames(land_use_rmap)"
   ]
  },
  {
   "cell_type": "markdown",
   "id": "5ea8208d-55c6-408a-afb5-1eb2e1c69778",
   "metadata": {},
   "source": [
    "Now the data is ready to use with `rmap`.\n"
   ]
  },
  {
   "cell_type": "markdown",
   "id": "cc2c18f6-8b91-48ff-8fb1-47762bf4c67d",
   "metadata": {},
   "source": [
    "# Using `rmap`\n",
    "`rmap` has several options available for customization, but also includes prebuilt maps.\n"
   ]
  },
  {
   "cell_type": "markdown",
   "id": "98b648d3-1f99-4882-a100-5721c6ad5986",
   "metadata": {},
   "source": [
    "## Example: prebuilt maps\n",
    "The simplest way to use `rmap` is to let it decide which map to use for you. This is done by passing your dataframe into the `map()` function. `rmap` will see which regions are contained in your **subRegion** column, and select a map based on that.\n"
   ]
  },
  {
   "cell_type": "code",
   "execution_count": null,
   "id": "c73e1986-579f-49e9-909b-922e83c7ccd3",
   "metadata": {
    "scrolled": true
   },
   "outputs": [],
   "source": [
    "library(rmap)\n",
    "\n",
    "# to save time, let's first reduce the number of years in our data frame.\n",
    "population_rmap_years <- population_rmap %>%\n",
    "    filter(year == 2025 | year == 2030)\n",
    "\n",
    "# to produce all map types, use this:\n",
    "# map(population_rmap_years)\n",
    "\n",
    "# to produce a specific map, use and modify this\n",
    "mapx <- map(population_rmap_years,\n",
    "            # show = F will prevent every map from being printed, but they will all still be saved to your output folder\n",
    "            show = F)\n",
    "# here, specify which maps to show\n",
    "mapx$map_param_2025_KMEANS\n",
    "mapx$map_param_2030_KMEANS\n",
    "\n",
    "# this changes the size of the plot for viewing purposes\n",
    "options(repr.plot.width = 10, repr.plot.height = 10, repr.plot.res = 100)"
   ]
  },
  {
   "cell_type": "markdown",
   "id": "d77acc2d-fa40-4fd5-87a0-292f2dbd7a99",
   "metadata": {},
   "source": [
    "Here, `rmap` identified that the **subRegion** column in the `population_rmap` dataframe contains the 32 GCAM region, so it selected **mapGCAMReg32**. Because the dataframe contains multiple years, it made one map for each year, and one map for each scenario.\n"
   ]
  },
  {
   "cell_type": "markdown",
   "id": "7e2f23b6-db5f-411e-b27d-b8de3b7be50d",
   "metadata": {},
   "source": [
    "## Example: custom maps\n",
    "`rmap` can be used to its full capability by customizing different settings, including the map to use, colors, labels, and others.\n"
   ]
  },
  {
   "cell_type": "markdown",
   "id": "ab17813f-4337-495c-9eef-9173cb16d098",
   "metadata": {},
   "source": [
    "### Preparing data for custom maps\n",
    "In order to use different maps in `rmap`, the **subRegion** column needs to contain regional information that `rmap` can recognize. Let's use land use as an example.\n"
   ]
  },
  {
   "cell_type": "code",
   "execution_count": null,
   "id": "51f2acad-cee1-413a-9085-00de1e6b7072",
   "metadata": {
    "scrolled": true
   },
   "outputs": [],
   "source": [
    "head(land_use_rmap)"
   ]
  },
  {
   "cell_type": "markdown",
   "id": "27bb0bb2-b72e-4a5e-bae6-60e5eaa28039",
   "metadata": {},
   "source": [
    "In its current format, the **landleaf** column contains information about what the land is being used for (CornC4), where the land is (AfrCstE), and what agricultural technologies are being used (IRR_hi). The **subRegion** column contains the aggregate GCAM region, but what if you want a more detailed map of land use? You can modify this dataframe.\n",
    "\n",
    "This example will show change in land allocated to Forest between our two scenarios.\n"
   ]
  },
  {
   "cell_type": "code",
   "execution_count": null,
   "id": "340ea8ed-9f78-4698-857d-f897d4fc9575",
   "metadata": {},
   "outputs": [],
   "source": [
    "land_use_forest <- land_use_rmap %>%\n",
    "    # filter for crop(s) of interest\n",
    "    filter(grepl(\"Forest\", landleaf)) %>%\n",
    "    # separate the landleaf column to get the land use region as our subRegion\n",
    "    separate(landleaf, c(\"forest1\", \"forest2\", \"subRegion\"), sep = \"_\") %>%\n",
    "    # summarize the dataframe to get aggregate forest values\n",
    "    group_by(Units, scenario, subRegion, year) %>%\n",
    "    mutate(value = sum(value)) %>%\n",
    "    distinct(Units, scenario, subRegion, year, value)\n",
    "\n",
    "head(land_use_forest)"
   ]
  },
  {
   "cell_type": "markdown",
   "id": "80f31d45-3608-40d4-bbe0-e2403835393d",
   "metadata": {},
   "source": [
    "For more detailed maps, like those using GCAM Basins, sometimes an extra step is needed if your query has abbreviated basin names. To convert these into the names associated with the **mapGCAMBasin** basin names, the **mapping_gcambasins** file provided in `rmap` can be used.\n"
   ]
  },
  {
   "cell_type": "code",
   "execution_count": null,
   "id": "024c26a9-e74c-414e-b1cc-0dd5304bd476",
   "metadata": {},
   "outputs": [],
   "source": [
    "land_use_forest_long <- land_use_forest %>%\n",
    "    # join in the mapping file\n",
    "    left_join(mapping_gcambasins,by=\"subRegion\")%>%\n",
    "    mutate(subRegion=case_when(!is.na(subRegionMap)~subRegionMap,\n",
    "                                    TRUE~subRegion))%>%\n",
    "    select(-subRegionMap)\n",
    "\n",
    "head(land_use_forest_long)"
   ]
  },
  {
   "cell_type": "markdown",
   "id": "75fba81b-33e5-4cd9-b143-d2637fec4532",
   "metadata": {},
   "source": [
    "Now you have long names ready to use by `rmap`."
   ]
  },
  {
   "cell_type": "markdown",
   "id": "5ac19d72-1a0b-4889-b082-5454fd379f47",
   "metadata": {},
   "source": [
    "### Selecting a map\n",
    "`rmap` has numerous preloaded maps - a comprehensive list can be found [here](https://jgcri.github.io/rmap/reference/index.html). In this example, you can use **mapGCAMBasins** in the `underLayer` argument. To reduce run time, let's first filter the dataframe for a year of interest, otherwise `rmap` will produce figures for all years.\n"
   ]
  },
  {
   "cell_type": "code",
   "execution_count": null,
   "id": "a53c8932-8f00-48d8-9d34-2a81343832fb",
   "metadata": {
    "scrolled": true
   },
   "outputs": [],
   "source": [
    "# filter for 2100\n",
    "land_use_forest_2100 <- land_use_forest_long %>%\n",
    "    filter(year == 2100)\n",
    "\n",
    "mapx <- map(land_use_forest_2100,\n",
    "            show = F,\n",
    "            underLayer = \"mapGCAMBasins\")\n",
    "\n",
    "mapx$map_param_KMEANS\n",
    "\n",
    "options(repr.plot.width = 10, repr.plot.height = 10, repr.plot.res = 100)"
   ]
  },
  {
   "attachments": {},
   "cell_type": "markdown",
   "id": "aec3e6b2-b71d-4253-9ef0-4c92aa902434",
   "metadata": {},
   "source": [
    "Here, you see the forested land area at a more detailed spatial scale. To see the difference between two scenarios, use the `scenRef` argument. In this case, the \"Reference\" scenario is called **GCAM**, while **GCAM_SSP3** represents an alternative scenario.\n"
   ]
  },
  {
   "cell_type": "code",
   "execution_count": null,
   "id": "172096d3-47e2-4e3a-9a56-785131c63ad1",
   "metadata": {
    "scrolled": true
   },
   "outputs": [],
   "source": [
    "mapx <- map(land_use_forest_2100, \n",
    "            show = F,\n",
    "            underLayer = \"mapGCAMBasins\", \n",
    "            scenRef = \"GCAM\")\n",
    "\n",
    "# Difference plots automatically produce absolute difference and percent difference\n",
    "mapx$map_param_KMEANS_DiffAbs\n",
    "mapx$map_param_KMEANS_DiffPrcnt\n",
    "\n",
    "options(repr.plot.width = 10, repr.plot.height = 10, repr.plot.res = 100)"
   ]
  },
  {
   "cell_type": "markdown",
   "id": "642f94f7-f237-4dab-9758-805dfcc642c8",
   "metadata": {},
   "source": [
    "### Adjusting map features\n"
   ]
  },
  {
   "cell_type": "markdown",
   "id": "e15780cd-0c15-4aa0-8708-ceb0884d6acb",
   "metadata": {},
   "source": [
    "#### Legend type\n",
    "There are four types of legend options in `rmap` that can be chosen using the `legendType` argument: “kmeans”, “continuous”, “pretty”, and “fixed”. The default is “kmeans”. Users can set `legendType = \"all\"` or any combination of `legendType = c(\"kmeans\",\"pretty\")`.\n"
   ]
  },
  {
   "cell_type": "code",
   "execution_count": null,
   "id": "77f4db65-9d2c-4120-be11-6f1d8ac97ddd",
   "metadata": {
    "scrolled": true
   },
   "outputs": [],
   "source": [
    "mapx <- map(land_use_forest_2100,\n",
    "            show = F,\n",
    "            underLayer = \"mapGCAMBasins\", \n",
    "            scenRef = \"GCAM\", \n",
    "            legendType = \"pretty\")\n",
    "\n",
    "mapx$map_param_PRETTY_DiffPrcnt\n",
    "\n",
    "options(repr.plot.width = 10, repr.plot.height = 10, repr.plot.res = 100)"
   ]
  },
  {
   "cell_type": "markdown",
   "id": "f864fda6-cdf8-450d-8ab1-69fb86f8ac33",
   "metadata": {},
   "source": [
    "#### Color scheme\n",
    "`rmap` supports any [R color palette](https://www.nceas.ucsb.edu/sites/default/files/2020-04/colorPaletteCheatsheet.pdf), or a custom palette.\n"
   ]
  },
  {
   "cell_type": "code",
   "execution_count": null,
   "id": "710713e6-6f39-4e53-9dfc-23be45e0309a",
   "metadata": {
    "scrolled": true
   },
   "outputs": [],
   "source": [
    "mapx <- map(land_use_forest_2100,\n",
    "            show = F,\n",
    "            underLayer = \"mapGCAMBasins\",\n",
    "            scenRef = \"GCAM\", \n",
    "            legendType = \"kmeans\",\n",
    "            palette = \"pal_green\",\n",
    "            paletteDiff = \"pal_div_BrGn\")\n",
    "\n",
    "mapx$map_param_KMEANS_DiffPrcnt\n",
    "\n",
    "options(repr.plot.width = 10, repr.plot.height = 10, repr.plot.res = 100)"
   ]
  },
  {
   "cell_type": "markdown",
   "id": "5f319284-4c24-4692-80a2-f1160860f92a",
   "metadata": {},
   "source": [
    "#### Line colors\n",
    "You can also change th color of the regional outlines with the `color` argument.\n"
   ]
  },
  {
   "cell_type": "code",
   "execution_count": null,
   "id": "eecb0aa3-49a1-4be0-ab51-44f556d1e595",
   "metadata": {
    "scrolled": true
   },
   "outputs": [],
   "source": [
    "mapx <- map(land_use_forest_2100, \n",
    "            show = F,\n",
    "            underLayer = \"mapGCAMBasins\", \n",
    "            scenRef = \"GCAM\",\n",
    "            legendType = \"kmeans\", \n",
    "            palette = \"pal_green\",\n",
    "            paletteDiff = \"pal_div_BrGn\",\n",
    "            color = \"purple\")\n",
    "\n",
    "mapx$map_param_KMEANS_DiffPrcnt\n",
    "\n",
    "options(repr.plot.width = 10, repr.plot.height = 10, repr.plot.res = 100)"
   ]
  },
  {
   "cell_type": "markdown",
   "id": "d7472789-dbe4-4096-ac3c-b6fd0fad99d6",
   "metadata": {},
   "source": [
    "#### Add a background\n",
    "Setting the `background` argument to \"T\" adds a blue background to your maps.\n"
   ]
  },
  {
   "cell_type": "code",
   "execution_count": null,
   "id": "992ac97b-6a33-4dc6-a992-d64bbc1a0e70",
   "metadata": {
    "scrolled": true
   },
   "outputs": [],
   "source": [
    "mapx <- map(land_use_forest_2100, \n",
    "            show = F,\n",
    "            underLayer = \"mapGCAMBasins\", \n",
    "            scenRef = \"GCAM\",\n",
    "            legendType = \"kmeans\", \n",
    "            palette = \"pal_green\",\n",
    "            paletteDiff = \"pal_div_BrGn\",\n",
    "            color = \"purple\",\n",
    "            background = T)\n",
    "\n",
    "mapx$map_param_KMEANS_DiffPrcnt\n",
    "\n",
    "options(repr.plot.width = 10, repr.plot.height = 10, repr.plot.res = 100)"
   ]
  },
  {
   "cell_type": "markdown",
   "id": "67909da2-b142-43ba-8ad2-bb47e49b9a8e",
   "metadata": {},
   "source": [
    "#### Multiple parameters\n",
    "If you want a figure that shows multiple maps for different parameters, like type of forest by scenario, `rmap` can help by using the `row` and `col` arguments.\n"
   ]
  },
  {
   "cell_type": "code",
   "execution_count": null,
   "id": "5e36692c-3cd7-4971-a659-02940f4d6859",
   "metadata": {
    "scrolled": true
   },
   "outputs": [],
   "source": [
    "# modify dataframe\n",
    "land_use_params <- land_use_rmap %>%\n",
    "    # filter for crop(s) of interest\n",
    "    filter(grepl(\"Forest\", landleaf),\n",
    "           # filter for a year of interest\n",
    "           year == 2100) %>%\n",
    "    # separate the landleaf column to get the specific forest types\n",
    "    separate(landleaf, c(\"forest1\", \"forest2\", \"basin\"), sep = \"_\") %>%\n",
    "    # do not include protected lands\n",
    "    filter(!grepl(\"Protected\", forest1)) %>%\n",
    "    # summarize the dataframe to get aggregate GCAM 32 regional values\n",
    "    group_by(Units, scenario, subRegion, forest1, year) %>%\n",
    "    mutate(value = sum(value)) %>%\n",
    "    distinct(Units, scenario, subRegion, forest1, year, value) %>%\n",
    "    # renaming because rmap does not like columns named \"scenario\" and \"year\" for faceted maps\n",
    "    rename(scen = scenario,\n",
    "           yr = year)\n",
    "\n",
    "# map multiple parameters\n",
    " mapx <- map(land_use_params,\n",
    "             show = F,\n",
    "             underLayer = \"mapGCAMReg32\", \n",
    "             legendType = \"kmeans\", \n",
    "             palette = \"pal_green\",\n",
    "             paletteDiff = \"pal_div_BrGn\",\n",
    "             color = \"purple\",\n",
    "             background = T,\n",
    "             row = \"scen\",\n",
    "             col = \"forest1\",\n",
    "             width = 15,\n",
    "             height = 10)"
   ]
  },
  {
   "cell_type": "markdown",
   "id": "78cc1400-16b4-4b5f-8064-2142eb19e573",
   "metadata": {},
   "source": [
    "This code let's you view your faceted map - otherwise, you can navigate to the \"outputs\" folder to view it. Now, you can see changes in forest allocation, by type, between scenarios, in 2100 all in one figure.\n",
    "\n",
    "<div style=\"text-align:center;\">\n",
    "    <img src=\"./outputs/map_param_KMEANS.png\" style=\"width:100%;\" alt=\"My Image\">\n",
    "</div>\n"
   ]
  }
 ],
 "metadata": {
  "kernelspec": {
   "display_name": "R",
   "language": "R",
   "name": "ir"
  },
  "language_info": {
   "codemirror_mode": "r",
   "file_extension": ".r",
   "mimetype": "text/x-r-source",
   "name": "R",
   "pygments_lexer": "r",
   "version": "4.3.1"
  }
 },
 "nbformat": 4,
 "nbformat_minor": 5
}
