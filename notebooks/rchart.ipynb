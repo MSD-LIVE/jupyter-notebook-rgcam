{
 "cells": [
  {
   "cell_type": "markdown",
   "id": "6c0cb6b4-f6e5-43f5-8fe3-14fd2d5917c7",
   "metadata": {},
   "source": [
    "# GCAM visualization tutorial: `rchart`\n",
    "## Taryn Waite"
   ]
  },
  {
   "cell_type": "markdown",
   "id": "bc8d0773-35c9-4974-9927-d10d29f569f3",
   "metadata": {},
   "source": [
    "# Visualizing GCAM outputs\n",
    "GCAM has many complex outputs spanning scenarios, regions, and years, as well as query-specific dimensions such as sectors, fuels, emissions species, land types, and more. The R package `rchart` is designed to help users quickly produce the types of charts that are commonly used to visualize GCAM outputs across these dimensions. This notebook demonstrates a selection of `rchart` features; a more comprehensive [user guide](https://jgcri.github.io/rchart/articles/vignette_userguide.html) is available on GitHub.  "
   ]
  },
  {
   "cell_type": "markdown",
   "id": "a4623f74-74bf-46f4-995a-9a85fa8c7d83",
   "metadata": {},
   "source": [
    "## Input formats\n",
    "Before using `rchart`, you will need to make sure that your GCAM output data is in the right format. Your data should be an R data frame containing at least the following columns:\n",
    "\n",
    "- `subRegion`: GCAM region(s)\n",
    "- `year`: GCAM periods\n",
    "- `value`: data values\n",
    "\n",
    "`rchart` can also utilize additional columns including:\n",
    "\n",
    "- `param`: if your data includes multiple queries (e.g., population and GDP)\n",
    "- `scenario`: if your data includes multiple scenarios\n",
    "- `class`: if your data contains multiple categories, such as sectors, fuels, land types, etc.\n",
    "\n",
    "In this demonstration, we will start from a selection of `rgcam` outputs. First, we use `rgcam` to extract a few queries of interest (population, GDP, electricity generation, and final energy consumption):"
   ]
  },
  {
   "cell_type": "code",
   "execution_count": 1,
   "id": "8ae338bb-2b0d-4086-a16e-6e1b364416c1",
   "metadata": {
    "scrolled": true,
    "vscode": {
     "languageId": "r"
    }
   },
   "outputs": [
    {
     "ename": "ERROR",
     "evalue": "Error in library(rgcam): there is no package called ‘rgcam’\n",
     "output_type": "error",
     "traceback": [
      "Error in library(rgcam): there is no package called ‘rgcam’\nTraceback:\n",
      "1. library(rgcam)"
     ]
    }
   ],
   "source": [
    "library(rgcam)\n",
    "host <- gsub(':.*$', '', gsub('http://', '', Sys.getenv('JUPYTERHUB_API_URL')))\n",
    "conn <- remoteDBConn('gcamv71_training_basexdb', 'training', 'training', host)\n",
    "prj <- addScenario(conn, \"prj\", queryFile = \"../data/queries.xml\", scenario = \"GCAM\")\n",
    "prj <- addScenario(conn, \"prj\", queryFile = \"../data/queries.xml\", scenario = \"GCAM_SSP3\")"
   ]
  },
  {
   "cell_type": "code",
   "execution_count": null,
   "id": "295bffa5-28d0-48e5-9a90-af268b0acfeb",
   "metadata": {},
   "outputs": [],
   "source": []
  },
  {
   "cell_type": "code",
   "execution_count": 2,
   "id": "df1e101c-0f49-44b1-98d7-a61ea4c2860d",
   "metadata": {
    "vscode": {
     "languageId": "r"
    }
   },
   "outputs": [
    {
     "ename": "ERROR",
     "evalue": "Error in getQuery(prj, \"population by region\"): could not find function \"getQuery\"\n",
     "output_type": "error",
     "traceback": [
      "Error in getQuery(prj, \"population by region\"): could not find function \"getQuery\"\nTraceback:\n"
     ]
    }
   ],
   "source": [
    "pop <- getQuery(prj, 'population by region')\n",
    "gdp <- getQuery(prj, 'GDP MER by region')\n",
    "elec_gen <- getQuery(prj, 'elec gen by subsector')\n",
    "final_en <- getQuery(prj, 'final energy consumption by fuel')\n"
   ]
  },
  {
   "cell_type": "markdown",
   "id": "c86c9c3f-d2c2-4770-8b54-8499c246f961",
   "metadata": {},
   "source": [
    "We can take a look at the existing columns in our data:"
   ]
  },
  {
   "cell_type": "code",
   "execution_count": null,
   "id": "d0c0c72b-b0c6-4478-9530-9330bd58662c",
   "metadata": {},
   "outputs": [],
   "source": [
    "head(pop)\n",
    "head(gdp)\n",
    "head(elec_gen)\n",
    "head(final_en)"
   ]
  },
  {
   "cell_type": "markdown",
   "id": "d3784101-9cf4-4aa4-8813-16b79de1f929",
   "metadata": {},
   "source": [
    "Next, we will do some  post-processing to get the data ready for use in `rchart` and combine the queries into a single dataframe, using a new `param` column to differentiate between queries. We also need to add a `class` column corresponding with the category of interest in our data; for data without a categorical variable (population and gdp), we just need to add a placeholder `class` column. Finally, we will need to add a `subRegion` column, which will have the same values as `region`."
   ]
  },
  {
   "cell_type": "code",
   "execution_count": null,
   "id": "3f1f88fd-7d71-4888-b3fa-19830490c2f8",
   "metadata": {
    "vscode": {
     "languageId": "r"
    }
   },
   "outputs": [],
   "source": [
    "# load libraries needed for post-processing\n",
    "library(dplyr)\n",
    "library(magrittr)"
   ]
  },
  {
   "cell_type": "code",
   "execution_count": null,
   "id": "601ae1c6-3a61-4d8b-b4be-34328ba067f8",
   "metadata": {
    "vscode": {
     "languageId": "r"
    }
   },
   "outputs": [],
   "source": [
    "pop1 <- pop %>%\n",
    "    mutate(subRegion = region,\n",
    "           class = \"class\",\n",
    "           param = \"population\")\n",
    "\n",
    "gdp1 <- gdp %>%\n",
    "    select(-account) %>%\n",
    "    mutate(subRegion = region,\n",
    "           class = \"class\",\n",
    "           param = \"gdp\")\n",
    "\n",
    "elec_gen1 <- elec_gen %>%\n",
    "    rename(class = subsector) %>%\n",
    "    mutate(subRegion = region,\n",
    "           param = \"elec gen\")\n",
    "\n",
    "final_en1 <- final_en %>%\n",
    "    rename(class = input) %>%\n",
    "    mutate(subRegion = region,\n",
    "           param = \"final energy\")\n",
    "\n",
    "# let's filter to only a couple regions to save time\n",
    "all_data <- rbind(pop1, gdp1, elec_gen1, final_en1) %>%\n",
    "    filter(region %in% c(\"USA\", \"India\"))\n"
   ]
  },
  {
   "cell_type": "markdown",
   "id": "3608e0fd-d2f8-4949-9fc3-dac8370b4d31",
   "metadata": {},
   "source": [
    "## Generate charts\n",
    "Once our data is in the correct format, we can use `rchart`'s `chart()` function to automatically generate a selection of charts summarizing the data. The only necessary argument is `data`. The function returns a list of `ggplot` chart objects and by default, the charts are also saved as `.png` files in the working directory. To turn off this feature, we can set `save = F` as shown below. Alternatively, the `folder` argument can be used to change the location where the charts are saved."
   ]
  },
  {
   "cell_type": "code",
   "execution_count": null,
   "id": "54f52edf-73c7-4a7b-a645-4ed737fd79bb",
   "metadata": {
    "vscode": {
     "languageId": "r"
    }
   },
   "outputs": [],
   "source": [
    "library(rchart)"
   ]
  },
  {
   "cell_type": "code",
   "execution_count": null,
   "id": "0cf8f512-ecd3-4a10-9170-a4b1254938c2",
   "metadata": {
    "vscode": {
     "languageId": "r"
    }
   },
   "outputs": [],
   "source": [
    "my_charts <- chart(all_data,\n",
    "                   save = F)"
   ]
  },
  {
   "cell_type": "markdown",
   "id": "01941064-1f4d-465c-bfa2-2910985b27fc",
   "metadata": {},
   "source": [
    "The list returned by the `chart` function includes line charts of parameter totals (these have names starting with \"chart_param\" as well as bar charts showing values by class (these have names starting with chart_class)."
   ]
  },
  {
   "cell_type": "code",
   "execution_count": null,
   "id": "4980d20a-d05c-408d-8420-06a6f35066c3",
   "metadata": {
    "vscode": {
     "languageId": "r"
    }
   },
   "outputs": [],
   "source": [
    "print(names(my_charts))"
   ]
  },
  {
   "cell_type": "markdown",
   "id": "f1399088-6fd4-4672-8056-7155f4cc9c9d",
   "metadata": {},
   "source": [
    "The individual charts can be accessed using the `$` operator as shown in the below sections."
   ]
  },
  {
   "cell_type": "markdown",
   "id": "6e2d8c4c-71ae-42ca-9ecc-89fd197bca6e",
   "metadata": {},
   "source": [
    "### Line charts (absolute values)\n",
    "These line charts showing the total values of each `param`. A chart is generated for each `region` showing each `param` in a separate panel with colors corresponding with `scenario`:"
   ]
  },
  {
   "cell_type": "code",
   "execution_count": null,
   "id": "4c5d5ca1-915a-41b9-9435-41ccc497f51c",
   "metadata": {
    "vscode": {
     "languageId": "r"
    }
   },
   "outputs": [],
   "source": [
    "options(repr.plot.width = 8, repr.plot.height = 8, repr.plot.res = 100)\n",
    "my_charts$chart_param_USA "
   ]
  },
  {
   "cell_type": "code",
   "execution_count": null,
   "id": "5f86344b-1377-4285-8526-054c1f6b8760",
   "metadata": {
    "vscode": {
     "languageId": "r"
    }
   },
   "outputs": [],
   "source": [
    "my_charts$chart_param_India"
   ]
  },
  {
   "cell_type": "markdown",
   "id": "b19312b5-1620-42e8-b3aa-3e28485e36f8",
   "metadata": {},
   "source": [
    "A chart is also generated showing each `param`-`scenario` combination with colors corresponding to `region`:"
   ]
  },
  {
   "cell_type": "code",
   "execution_count": null,
   "id": "2d45b66e-bb5b-4fa1-9d80-bd90e14bbb4e",
   "metadata": {
    "vscode": {
     "languageId": "r"
    }
   },
   "outputs": [],
   "source": [
    "options(repr.plot.width = 6, repr.plot.height = 8, repr.plot.res = 100)\n",
    "my_charts$chart_region_absolute"
   ]
  },
  {
   "cell_type": "markdown",
   "id": "9143fadd-65a8-44f6-a7b6-5d8bfdd069fc",
   "metadata": {},
   "source": [
    "### Bar charts (absolute values)\n",
    "`rchart` also generates stacked bar charts showing the data by `class`. These charts have a row for each `param` and columns corresponding to either `scenario` or `region`. Since the population and gdp parameters don't have a meaningful `class` column, we will regenerate the charts using only the electricity generation and final energy consumption parameters before viewing the bar charts. Note that the `chart_type` argument can be used to specify which charts to generate, rather than generating the full set."
   ]
  },
  {
   "cell_type": "code",
   "execution_count": null,
   "id": "0bfb0b35-8007-421e-bb54-f8704f95f042",
   "metadata": {
    "vscode": {
     "languageId": "r"
    }
   },
   "outputs": [],
   "source": [
    "data_barcharts <- all_data %>%\n",
    "    filter(param %in% c(\"elec gen\", \"final energy\"))\n",
    "\n",
    "my_charts <- chart(data_barcharts,\n",
    "                    save = F,\n",
    "                    chart_type = \"class_absolute\")"
   ]
  },
  {
   "cell_type": "code",
   "execution_count": null,
   "id": "6af4f504-b945-4811-b70d-8b13b4e55c91",
   "metadata": {
    "vscode": {
     "languageId": "r"
    }
   },
   "outputs": [],
   "source": [
    "options(repr.plot.width = 8, repr.plot.height = 6, repr.plot.res = 100)\n",
    "my_charts$chart_class_USA"
   ]
  },
  {
   "cell_type": "code",
   "execution_count": null,
   "id": "c0e70c7e-31d5-4752-8d93-95da6e2f664b",
   "metadata": {
    "vscode": {
     "languageId": "r"
    }
   },
   "outputs": [],
   "source": [
    "my_charts$chart_class_GCAM_SSP3"
   ]
  },
  {
   "cell_type": "markdown",
   "id": "613fb5ed-cf66-473d-b92d-167ee9d7556e",
   "metadata": {},
   "source": [
    "### Line charts (scenario differences)\n",
    "In the `chart()` function, we can also define the \"reference\" scenario to which we want to compare other scenarios. If a \"reference\" scenario is specified using the `scenRef` argument, then line and bar charts are also generated to compare each additional scenario with the reference scenario. These include both absolute differences and percent differences."
   ]
  },
  {
   "cell_type": "code",
   "execution_count": null,
   "id": "1d6a4e87-0326-4ece-90be-527ee7ba1a06",
   "metadata": {
    "vscode": {
     "languageId": "r"
    }
   },
   "outputs": [],
   "source": [
    "my_charts <- chart(all_data,\n",
    "                   scenRef = \"GCAM\",\n",
    "                   save = F)"
   ]
  },
  {
   "cell_type": "code",
   "execution_count": null,
   "id": "76c23cf1-8a02-4307-bd70-d3a8ea37a3cd",
   "metadata": {
    "vscode": {
     "languageId": "r"
    }
   },
   "outputs": [],
   "source": [
    "options(repr.plot.width = 12, repr.plot.height = 16, repr.plot.res = 100)\n",
    "my_charts$chart_param_diff_absolute_India"
   ]
  },
  {
   "cell_type": "code",
   "execution_count": null,
   "id": "d7f2cff2-63c5-4488-b1d2-3eca08827bb3",
   "metadata": {
    "vscode": {
     "languageId": "r"
    }
   },
   "outputs": [],
   "source": [
    "my_charts$chart_param_diff_percent_India"
   ]
  },
  {
   "cell_type": "markdown",
   "id": "1c412874-fec9-46e4-8292-d84960e02d1e",
   "metadata": {},
   "source": [
    "### Bar charts (scenario differences)\n",
    "As with the line charts, `rchart` also generates bar charts showing the differences by `class` between `scenRef` and each additional scenario. As with the previous bar charts, we'll generate these using a subset of the data that has a meaningful `class` column."
   ]
  },
  {
   "cell_type": "code",
   "execution_count": null,
   "id": "c5e906fb-de8b-4751-b199-ebeed238f5fd",
   "metadata": {
    "vscode": {
     "languageId": "r"
    }
   },
   "outputs": [],
   "source": [
    "my_charts <- chart(data_barcharts,\n",
    "                   scenRef = \"GCAM\",\n",
    "                   save = F)"
   ]
  },
  {
   "cell_type": "code",
   "execution_count": null,
   "id": "dfa4e5d9-c1d7-4c9a-aa07-c0c540d7ce1b",
   "metadata": {
    "vscode": {
     "languageId": "r"
    }
   },
   "outputs": [],
   "source": [
    "options(repr.plot.width = 15, repr.plot.height = 10, repr.plot.res = 100)\n",
    "my_charts$chart_class_diff_absolute_India"
   ]
  },
  {
   "cell_type": "markdown",
   "id": "590a5b5b-70ce-4f86-9d25-20484e42ef6b",
   "metadata": {},
   "source": [
    "As well as combined bar-line charts showing the percent differences by `class`:"
   ]
  },
  {
   "cell_type": "code",
   "execution_count": null,
   "id": "f80aa6db-af91-4db5-afce-56affbb0096f",
   "metadata": {
    "vscode": {
     "languageId": "r"
    }
   },
   "outputs": [],
   "source": [
    "my_charts$chart_class_diff_percent_India"
   ]
  },
  {
   "cell_type": "markdown",
   "id": "4ba58e7b-f9f6-4e9c-95fe-68d8642b654f",
   "metadata": {},
   "source": [
    "### Waterfall charts\n",
    "Finally, when a `scenRef` is specified, `rchart` generates waterfall charts showing a snapshot of the `class`-wise differences between scenarios in a single year. By default, `rchart` uses the latest year in the dataframe for waterfall charts, but a different year can be passed to the `chart()` function using the `waterfall_x` argument if desired. "
   ]
  },
  {
   "cell_type": "code",
   "execution_count": null,
   "id": "05a1c13c-fa04-4f9e-b819-722f856231a7",
   "metadata": {
    "vscode": {
     "languageId": "r"
    }
   },
   "outputs": [],
   "source": [
    "options(repr.plot.width = 8, repr.plot.height = 8, repr.plot.res = 100)\n",
    "my_charts$chart_class_waterfall_USA"
   ]
  },
  {
   "cell_type": "code",
   "execution_count": null,
   "id": "2b8d1daa-f4b4-4b5e-8480-849702c86630",
   "metadata": {
    "vscode": {
     "languageId": "r"
    }
   },
   "outputs": [],
   "source": [
    "my_charts <- chart(data_barcharts,\n",
    "                    scenRef = \"GCAM\",\n",
    "                    save = F,\n",
    "                    waterfall_x = 2050)\n",
    "\n",
    "my_charts$chart_class_waterfall_USA"
   ]
  },
  {
   "cell_type": "markdown",
   "id": "524ebcf2-ac6b-46ce-8cc6-037752515246",
   "metadata": {},
   "source": [
    "## Customization options\n",
    "The `chart()` function has several additional arguments to further customize your charts."
   ]
  },
  {
   "cell_type": "markdown",
   "id": "06f3db0e-b181-4916-9a52-d6d214d1cb34",
   "metadata": {},
   "source": [
    "### Custom color palettes\n",
    "`rchart` leverages the `jgcricolors` R package for default color palettes (see the documentation on [GitHub](https://github.com/JGCRI/jgcricolors). These defaults include colors for common sectors and fuels in GCAM output along with a standard palette for other `class` names. However, custom color palettes can be applied to line, bar, and waterfall charts using the `palette` argument, which is given as a named vector. Any color or fill aesthetics (scenario, region, class) can be included in the custom palette and the relevant colors will be applied to each plot. Custom palettes need not include every `class`, scenario, and/or region; `rchart` will automatically fill in missing color values using the default palettes."
   ]
  },
  {
   "cell_type": "code",
   "execution_count": null,
   "id": "6bfc4f69-9aab-41fd-a309-fc54fe3b396a",
   "metadata": {
    "vscode": {
     "languageId": "r"
    }
   },
   "outputs": [],
   "source": [
    "# define a custom palette\n",
    "pal <- c(\"electricity\" = \"orange\", \"refined liquids\" = \"purple\", \"wind\" = \"grey\",\n",
    "         \"GCAM\" = \"coral\", \"GCAM_SSP3\" = \"darkblue\", \n",
    "         \"USA\" = \"darkgoldenrod2\", \"India\" = \"lightslateblue\")\n",
    "\n",
    "# generate charts using the custom palette\n",
    "my_charts <- rchart::chart(data_barcharts, \n",
    "                           save = F, \n",
    "                           palette = pal)"
   ]
  },
  {
   "cell_type": "code",
   "execution_count": null,
   "id": "74ea8f5d-833c-4845-ad35-07d346446d7e",
   "metadata": {
    "vscode": {
     "languageId": "r"
    }
   },
   "outputs": [],
   "source": [
    "options(repr.plot.width = 6, repr.plot.height = 4, repr.plot.res = 100)\n",
    "my_charts$chart_param_USA"
   ]
  },
  {
   "cell_type": "code",
   "execution_count": null,
   "id": "ac27cec4-c3c2-45be-8517-17a33627e1f8",
   "metadata": {
    "vscode": {
     "languageId": "r"
    }
   },
   "outputs": [],
   "source": [
    "options(repr.plot.width = 12, repr.plot.height = 8, repr.plot.res = 100)\n",
    "my_charts$chart_class_India"
   ]
  },
  {
   "cell_type": "code",
   "execution_count": null,
   "id": "d4d98f2b-0a2e-473e-9070-0acf5ef4865d",
   "metadata": {
    "vscode": {
     "languageId": "r"
    }
   },
   "outputs": [],
   "source": [
    "my_charts$chart_region_absolute"
   ]
  },
  {
   "cell_type": "markdown",
   "id": "5d1c9241-0f1f-47f9-b2f0-4e23e08debcf",
   "metadata": {},
   "source": [
    "### Add summary line to bar charts\n",
    "The `summary_line` argument can be used to overlay a parameter summary line over bar charts. This is especially useful for barcharts that include both positive and negative values. Setting `summary_line = T` will add summary lines to all bar charts generated, including diff charts."
   ]
  },
  {
   "cell_type": "code",
   "execution_count": null,
   "id": "77ff0a00-957c-4ec7-8c48-9cab02f8a55d",
   "metadata": {
    "vscode": {
     "languageId": "r"
    }
   },
   "outputs": [],
   "source": [
    "my_charts <- rchart::chart(data_barcharts, \n",
    "                           save = F, \n",
    "                           scenRef = \"GCAM\",\n",
    "                           summary_line = T,\n",
    "                           chart_type = \"class_diff_absolute\")"
   ]
  },
  {
   "cell_type": "code",
   "execution_count": null,
   "id": "586c0646-ce0d-4357-bb68-bf08d92de7f4",
   "metadata": {
    "vscode": {
     "languageId": "r"
    }
   },
   "outputs": [],
   "source": [
    "options(repr.plot.width = 15, repr.plot.height = 10, repr.plot.res = 100)\n",
    "my_charts$chart_class_diff_absolute_India"
   ]
  },
  {
   "cell_type": "markdown",
   "id": "46620c53-5eeb-44db-9aae-68608f4cb23b",
   "metadata": {},
   "source": [
    "### Add points to line charts\n",
    "Points can be added to line charts with the `include_points` argument. The default, `include_points = F` displays only lines for relevant chart types (`chart_param`, `chart_param_diff_absolute`, `chart_param_diff_percent`, `chart_class_diff_percent`, and `plot_region_absolute`), while setting `include_points = T` results in plots with both lines and points for these chart types."
   ]
  },
  {
   "cell_type": "code",
   "execution_count": null,
   "id": "5dfd44b8-d24b-4f0a-8805-bba846dc4394",
   "metadata": {
    "vscode": {
     "languageId": "r"
    }
   },
   "outputs": [],
   "source": [
    "my_chart <- rchart::chart(all_data, \n",
    "                          save = F, \n",
    "                          include_points = T,\n",
    "                          chart_type = \"param_absolute\") "
   ]
  },
  {
   "cell_type": "code",
   "execution_count": null,
   "id": "4ac72b77-7754-4229-8d14-ef6cbd40a4c0",
   "metadata": {
    "vscode": {
     "languageId": "r"
    }
   },
   "outputs": [],
   "source": [
    "options(repr.plot.width = 8, repr.plot.height = 8, repr.plot.res = 100)\n",
    "my_chart$chart_param_USA"
   ]
  },
  {
   "cell_type": "code",
   "execution_count": null,
   "id": "27c16515-72c4-4790-824a-ed293916812b",
   "metadata": {
    "vscode": {
     "languageId": "r"
    }
   },
   "outputs": [],
   "source": []
  }
 ],
 "metadata": {
  "kernelspec": {
   "display_name": "R",
   "language": "R",
   "name": "ir"
  },
  "language_info": {
   "codemirror_mode": "r",
   "file_extension": ".r",
   "mimetype": "text/x-r-source",
   "name": "R",
   "pygments_lexer": "r",
   "version": "4.3.3"
  }
 },
 "nbformat": 4,
 "nbformat_minor": 5
}
